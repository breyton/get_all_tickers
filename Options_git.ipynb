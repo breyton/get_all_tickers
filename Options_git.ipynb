{
  "nbformat": 4,
  "nbformat_minor": 0,
  "metadata": {
    "colab": {
      "name": "Options_git.ipynb",
      "provenance": [],
      "collapsed_sections": [],
      "include_colab_link": true
    },
    "kernelspec": {
      "name": "python3",
      "display_name": "Python 3"
    }
  },
  "cells": [
    {
      "cell_type": "markdown",
      "metadata": {
        "id": "view-in-github",
        "colab_type": "text"
      },
      "source": [
        "<a href=\"https://colab.research.google.com/github/breyton/get_all_tickers/blob/master/Options_git.ipynb\" target=\"_parent\"><img src=\"https://colab.research.google.com/assets/colab-badge.svg\" alt=\"Open In Colab\"/></a>"
      ]
    },
    {
      "cell_type": "markdown",
      "metadata": {
        "id": "7ZjKL_ALd0Wt"
      },
      "source": [
        "### Stock Options Evaluation Model: PART I\n",
        "\n"
      ]
    },
    {
      "cell_type": "code",
      "metadata": {
        "id": "wUb-Udu9MQEp",
        "outputId": "fd158114-0fb7-4ab5-af83-1b147e48fec9",
        "colab": {
          "base_uri": "https://localhost:8080/",
          "height": 527
        }
      },
      "source": [
        "###PACKAGES AND FORMATTING \n",
        "\n",
        "#Importing required modules\n",
        "import pandas as pd\n",
        "import numpy as np\n",
        "import matplotlib.pyplot as plt\n",
        "import random\n",
        "from copy import copy\n",
        "!pip install requests_html\n",
        "!pip install yahoo_fin\n",
        "from yahoo_fin.stock_info import *\n",
        "from yahoo_fin.options import *\n",
        "import math\n",
        "from datetime import date \n",
        "from datetime import datetime\n",
        "\n",
        "%load_ext google.colab.data_table\n",
        "#%unload_ext google.colab.data_table  #to disable \n",
        "\n"
      ],
      "execution_count": 1,
      "outputs": [
        {
          "output_type": "stream",
          "text": [
            "Requirement already satisfied: requests_html in /usr/local/lib/python3.6/dist-packages (0.10.0)\n",
            "Requirement already satisfied: bs4 in /usr/local/lib/python3.6/dist-packages (from requests_html) (0.0.1)\n",
            "Requirement already satisfied: w3lib in /usr/local/lib/python3.6/dist-packages (from requests_html) (1.22.0)\n",
            "Requirement already satisfied: fake-useragent in /usr/local/lib/python3.6/dist-packages (from requests_html) (0.1.11)\n",
            "Requirement already satisfied: pyquery in /usr/local/lib/python3.6/dist-packages (from requests_html) (1.4.1)\n",
            "Requirement already satisfied: pyppeteer>=0.0.14 in /usr/local/lib/python3.6/dist-packages (from requests_html) (0.2.2)\n",
            "Requirement already satisfied: parse in /usr/local/lib/python3.6/dist-packages (from requests_html) (1.18.0)\n",
            "Requirement already satisfied: requests in /usr/local/lib/python3.6/dist-packages (from requests_html) (2.23.0)\n",
            "Requirement already satisfied: beautifulsoup4 in /usr/local/lib/python3.6/dist-packages (from bs4->requests_html) (4.6.3)\n",
            "Requirement already satisfied: six>=1.4.1 in /usr/local/lib/python3.6/dist-packages (from w3lib->requests_html) (1.15.0)\n",
            "Requirement already satisfied: cssselect>0.7.9 in /usr/local/lib/python3.6/dist-packages (from pyquery->requests_html) (1.1.0)\n",
            "Requirement already satisfied: lxml>=2.1 in /usr/local/lib/python3.6/dist-packages (from pyquery->requests_html) (4.2.6)\n",
            "Requirement already satisfied: pyee<8.0.0,>=7.0.1 in /usr/local/lib/python3.6/dist-packages (from pyppeteer>=0.0.14->requests_html) (7.0.4)\n",
            "Requirement already satisfied: websockets<9.0,>=8.1 in /usr/local/lib/python3.6/dist-packages (from pyppeteer>=0.0.14->requests_html) (8.1)\n",
            "Collecting urllib3<2.0.0,>=1.25.8\n",
            "\u001b[?25l  Downloading https://files.pythonhosted.org/packages/9f/f0/a391d1463ebb1b233795cabfc0ef38d3db4442339de68f847026199e69d7/urllib3-1.25.10-py2.py3-none-any.whl (127kB)\n",
            "\u001b[K     |████████████████████████████████| 133kB 3.0MB/s \n",
            "\u001b[?25hRequirement already satisfied: tqdm<5.0.0,>=4.42.1 in /usr/local/lib/python3.6/dist-packages (from pyppeteer>=0.0.14->requests_html) (4.49.0)\n",
            "Requirement already satisfied: appdirs<2.0.0,>=1.4.3 in /usr/local/lib/python3.6/dist-packages (from pyppeteer>=0.0.14->requests_html) (1.4.4)\n",
            "Requirement already satisfied: certifi>=2017.4.17 in /usr/local/lib/python3.6/dist-packages (from requests->requests_html) (2020.6.20)\n",
            "Requirement already satisfied: idna<3,>=2.5 in /usr/local/lib/python3.6/dist-packages (from requests->requests_html) (2.10)\n",
            "Requirement already satisfied: chardet<4,>=3.0.2 in /usr/local/lib/python3.6/dist-packages (from requests->requests_html) (3.0.4)\n",
            "\u001b[31mERROR: kaggle 1.5.8 has requirement urllib3<1.25,>=1.21.1, but you'll have urllib3 1.25.10 which is incompatible.\u001b[0m\n",
            "\u001b[31mERROR: datascience 0.10.6 has requirement folium==0.2.1, but you'll have folium 0.8.3 which is incompatible.\u001b[0m\n",
            "Installing collected packages: urllib3\n",
            "  Found existing installation: urllib3 1.24.3\n",
            "    Uninstalling urllib3-1.24.3:\n",
            "      Successfully uninstalled urllib3-1.24.3\n",
            "Successfully installed urllib3-1.25.10\n",
            "Requirement already satisfied: yahoo_fin in /usr/local/lib/python3.6/dist-packages (0.8.6)\n"
          ],
          "name": "stdout"
        }
      ]
    },
    {
      "cell_type": "code",
      "metadata": {
        "id": "1uPWSMV8NX8Z",
        "outputId": "2d969160-3be3-48e0-ffd0-9bd24443d1cf",
        "colab": {
          "base_uri": "https://localhost:8080/",
          "height": 34
        }
      },
      "source": [
        "#Generating S&P 500 List of Stocks\n",
        "#sp_list = tickers_sp500()\n",
        "sp_list = ['AAPL']\n",
        "#these two make errors due to . \n",
        "#sp_list.remove('BF.B')\n",
        "#sp_list.remove('BRK.B')\n",
        "\n",
        "sp_list"
      ],
      "execution_count": 6,
      "outputs": [
        {
          "output_type": "execute_result",
          "data": {
            "text/plain": [
              "['AAPL']"
            ]
          },
          "metadata": {
            "tags": []
          },
          "execution_count": 6
        }
      ]
    },
    {
      "cell_type": "code",
      "metadata": {
        "id": "1jBhLLtYokDq",
        "outputId": "70b216eb-944a-45e6-d6d2-836bd1bcf152",
        "colab": {
          "base_uri": "https://localhost:8080/",
          "height": 51
        }
      },
      "source": [
        "#Creating options dataset\n",
        "options_df = pd.DataFrame()\n",
        "expiration = get_expiration_dates(sp_list[0])[1]\n",
        "for stock in sp_list:\n",
        "    try:\n",
        "        price = get_live_price(stock)           #current market price of the stock\n",
        "        option = get_calls(stock,expiration)\n",
        "        option['CurrentPrice'] = price\n",
        "        option['Ticker'] = stock\n",
        "        option['DateExp'] = expiration\n",
        "        options_df = options_df.append(option)\n",
        "        print(price)\n",
        "        print(stock)\n",
        "    except:\n",
        "        print('Option contract not available on '+ str(expiration))\n",
        "        pass   \n"
      ],
      "execution_count": 7,
      "outputs": [
        {
          "output_type": "stream",
          "text": [
            "112.27999877929688\n",
            "AAPL\n"
          ],
          "name": "stdout"
        }
      ]
    },
    {
      "cell_type": "code",
      "metadata": {
        "id": "fmebNk0wqhnO",
        "outputId": "54caf389-84d1-4adb-83cc-563082709783",
        "colab": {
          "base_uri": "https://localhost:8080/",
          "height": 51
        }
      },
      "source": [
        "options_df = options_df[['Contract Name', 'Strike','Bid', 'Ask', 'CurrentPrice', 'Volume', 'Open Interest', 'Ticker', 'DateExp']]\n",
        "\n",
        "options_df = options_df[options_df.Bid != '-']\n",
        "options_df = options_df[options_df.Ask != '-']\n",
        "\n",
        "options_df['AvgPrice'] = (pd.to_numeric(options_df.Bid) + pd.to_numeric(options_df.Ask)) / 2\n",
        "options_df['OptionCost'] = options_df['AvgPrice'] * 100\n",
        "options_df['BE_percent'] = ((options_df.Strike + options_df.AvgPrice)/(options_df.CurrentPrice)) - 1"
      ],
      "execution_count": 8,
      "outputs": [
        {
          "output_type": "stream",
          "text": [
            "/usr/local/lib/python3.6/dist-packages/pandas/core/ops/array_ops.py:253: FutureWarning: elementwise comparison failed; returning scalar instead, but in the future will perform elementwise comparison\n",
            "  res_values = method(rvalues)\n"
          ],
          "name": "stderr"
        }
      ]
    },
    {
      "cell_type": "code",
      "metadata": {
        "id": "g_zI8f70IfFy",
        "outputId": "91321445-cf25-4113-a0f2-50e413bdb6a5",
        "colab": {
          "base_uri": "https://localhost:8080/",
          "height": 636
        }
      },
      "source": [
        "options_df"
      ],
      "execution_count": 12,
      "outputs": [
        {
          "output_type": "execute_result",
          "data": {
            "application/vnd.google.colaboratory.module+javascript": "\n      import \"https://ssl.gstatic.com/colaboratory/data_table/a6224c040fa35dcf/data_table.js\";\n\n      window.createDataTable({\n        data: [[{\n            'v': 0,\n            'f': \"0\",\n        },\n\"AAPL201009C00070000\",\n{\n            'v': 70.0,\n            'f': \"70.0\",\n        },\n{\n            'v': 42.0,\n            'f': \"42.0\",\n        },\n{\n            'v': 42.75,\n            'f': \"42.75\",\n        },\n{\n            'v': 112.27999877929688,\n            'f': \"112.27999877929688\",\n        },\n\"8\",\n\"38\",\n\"AAPL\",\n\"October 9, 2020\",\n{\n            'v': 42.375,\n            'f': \"42.375\",\n        },\n{\n            'v': 4237.5,\n            'f': \"4237.5\",\n        },\n{\n            'v': 0.0008461099192729193,\n            'f': \"0.0008461099192729193\",\n        }],\n [{\n            'v': 1,\n            'f': \"1\",\n        },\n\"AAPL201009C00075000\",\n{\n            'v': 75.0,\n            'f': \"75.0\",\n        },\n{\n            'v': 36.95,\n            'f': \"36.95\",\n        },\n{\n            'v': 37.75,\n            'f': \"37.75\",\n        },\n{\n            'v': 112.27999877929688,\n            'f': \"112.27999877929688\",\n        },\n\"56\",\n\"62\",\n\"AAPL\",\n\"October 9, 2020\",\n{\n            'v': 37.35,\n            'f': \"37.35\",\n        },\n{\n            'v': 3735.0,\n            'f': \"3735.0\",\n        },\n{\n            'v': 0.0006234522752419647,\n            'f': \"0.0006234522752419647\",\n        }],\n [{\n            'v': 2,\n            'f': \"2\",\n        },\n\"AAPL201009C00080000\",\n{\n            'v': 80.0,\n            'f': \"80.0\",\n        },\n{\n            'v': 31.95,\n            'f': \"31.95\",\n        },\n{\n            'v': 32.8,\n            'f': \"32.8\",\n        },\n{\n            'v': 112.27999877929688,\n            'f': \"112.27999877929688\",\n        },\n\"61\",\n\"61\",\n\"AAPL\",\n\"October 9, 2020\",\n{\n            'v': 32.375,\n            'f': \"32.375\",\n        },\n{\n            'v': 3237.5,\n            'f': \"3237.5\",\n        },\n{\n            'v': 0.0008461099192729193,\n            'f': \"0.0008461099192729193\",\n        }],\n [{\n            'v': 3,\n            'f': \"3\",\n        },\n\"AAPL201009C00085000\",\n{\n            'v': 85.0,\n            'f': \"85.0\",\n        },\n{\n            'v': 27.05,\n            'f': \"27.05\",\n        },\n{\n            'v': 27.8,\n            'f': \"27.8\",\n        },\n{\n            'v': 112.27999877929688,\n            'f': \"112.27999877929688\",\n        },\n\"5\",\n\"242\",\n\"AAPL\",\n\"October 9, 2020\",\n{\n            'v': 27.425,\n            'f': \"27.425\",\n        },\n{\n            'v': 2742.5,\n            'f': \"2742.5\",\n        },\n{\n            'v': 0.0012914252073350507,\n            'f': \"0.0012914252073350507\",\n        }],\n [{\n            'v': 4,\n            'f': \"4\",\n        },\n\"AAPL201009C00090000\",\n{\n            'v': 90.0,\n            'f': \"90.0\",\n        },\n{\n            'v': 22.25,\n            'f': \"22.25\",\n        },\n{\n            'v': 22.65,\n            'f': \"22.65\",\n        },\n{\n            'v': 112.27999877929688,\n            'f': \"112.27999877929688\",\n        },\n\"856\",\n\"138\",\n\"AAPL\",\n\"October 9, 2020\",\n{\n            'v': 22.45,\n            'f': \"22.45\",\n        },\n{\n            'v': 2245.0,\n            'f': \"2245.0\",\n        },\n{\n            'v': 0.0015140828513660054,\n            'f': \"0.0015140828513660054\",\n        }],\n [{\n            'v': 5,\n            'f': \"5\",\n        },\n\"AAPL201009C00100000\",\n{\n            'v': 100.0,\n            'f': \"100.0\",\n        },\n{\n            'v': 12.7,\n            'f': \"12.7\",\n        },\n{\n            'v': 13.0,\n            'f': \"13.0\",\n        },\n{\n            'v': 112.27999877929688,\n            'f': \"112.27999877929688\",\n        },\n\"197\",\n\"297\",\n\"AAPL\",\n\"October 9, 2020\",\n{\n            'v': 12.85,\n            'f': \"12.85\",\n        },\n{\n            'v': 1285.0,\n            'f': \"1285.0\",\n        },\n{\n            'v': 0.005076605155861724,\n            'f': \"0.005076605155861724\",\n        }],\n [{\n            'v': 6,\n            'f': \"6\",\n        },\n\"AAPL201009C00101000\",\n{\n            'v': 101.0,\n            'f': \"101.0\",\n        },\n{\n            'v': 11.85,\n            'f': \"11.85\",\n        },\n{\n            'v': 12.1,\n            'f': \"12.1\",\n        },\n{\n            'v': 112.27999877929688,\n            'f': \"112.27999877929688\",\n        },\n\"69\",\n\"102\",\n\"AAPL\",\n\"October 9, 2020\",\n{\n            'v': 11.975,\n            'f': \"11.975\",\n        },\n{\n            'v': 1197.5,\n            'f': \"1197.5\",\n        },\n{\n            'v': 0.006189893376016498,\n            'f': \"0.006189893376016498\",\n        }],\n [{\n            'v': 7,\n            'f': \"7\",\n        },\n\"AAPL201009C00104000\",\n{\n            'v': 104.0,\n            'f': \"104.0\",\n        },\n{\n            'v': 9.3,\n            'f': \"9.3\",\n        },\n{\n            'v': 9.5,\n            'f': \"9.5\",\n        },\n{\n            'v': 112.27999877929688,\n            'f': \"112.27999877929688\",\n        },\n\"120\",\n\"267\",\n\"AAPL\",\n\"October 9, 2020\",\n{\n            'v': 9.4,\n            'f': \"9.4\",\n        },\n{\n            'v': 940.0,\n            'f': \"940.0\",\n        },\n{\n            'v': 0.009975073324543393,\n            'f': \"0.009975073324543393\",\n        }],\n [{\n            'v': 8,\n            'f': \"8\",\n        },\n\"AAPL201009C00105000\",\n{\n            'v': 105.0,\n            'f': \"105.0\",\n        },\n{\n            'v': 8.5,\n            'f': \"8.5\",\n        },\n{\n            'v': 8.7,\n            'f': \"8.7\",\n        },\n{\n            'v': 112.27999877929688,\n            'f': \"112.27999877929688\",\n        },\n\"4206\",\n\"2362\",\n\"AAPL\",\n\"October 9, 2020\",\n{\n            'v': 8.6,\n            'f': \"8.6\",\n        },\n{\n            'v': 860.0,\n            'f': \"860.0\",\n        },\n{\n            'v': 0.011756334476791253,\n            'f': \"0.011756334476791253\",\n        }],\n [{\n            'v': 9,\n            'f': \"9\",\n        },\n\"AAPL201009C00106000\",\n{\n            'v': 106.0,\n            'f': \"106.0\",\n        },\n{\n            'v': 7.75,\n            'f': \"7.75\",\n        },\n{\n            'v': 7.95,\n            'f': \"7.95\",\n        },\n{\n            'v': 112.27999877929688,\n            'f': \"112.27999877929688\",\n        },\n\"381\",\n\"1078\",\n\"AAPL\",\n\"October 9, 2020\",\n{\n            'v': 7.85,\n            'f': \"7.85\",\n        },\n{\n            'v': 785.0,\n            'f': \"785.0\",\n        },\n{\n            'v': 0.013982910917101021,\n            'f': \"0.013982910917101021\",\n        }],\n [{\n            'v': 10,\n            'f': \"10\",\n        },\n\"AAPL201009C00107500\",\n{\n            'v': 107.5,\n            'f': \"107.5\",\n        },\n{\n            'v': 6.7,\n            'f': \"6.7\",\n        },\n{\n            'v': 6.9,\n            'f': \"6.9\",\n        },\n{\n            'v': 112.27999877929688,\n            'f': \"112.27999877929688\",\n        },\n\"1082\",\n\"2183\",\n\"AAPL\",\n\"October 9, 2020\",\n{\n            'v': 6.800000000000001,\n            'f': \"6.800000000000001\",\n        },\n{\n            'v': 680.0000000000001,\n            'f': \"680.0000000000001\",\n        },\n{\n            'v': 0.01799074850965865,\n            'f': \"0.01799074850965865\",\n        }],\n [{\n            'v': 11,\n            'f': \"11\",\n        },\n\"AAPL201009C00108750\",\n{\n            'v': 108.75,\n            'f': \"108.75\",\n        },\n{\n            'v': 5.85,\n            'f': \"5.85\",\n        },\n{\n            'v': 6.05,\n            'f': \"6.05\",\n        },\n{\n            'v': 112.27999877929688,\n            'f': \"112.27999877929688\",\n        },\n\"2180\",\n\"1456\",\n\"AAPL\",\n\"October 9, 2020\",\n{\n            'v': 5.949999999999999,\n            'f': \"5.949999999999999\",\n        },\n{\n            'v': 594.9999999999999,\n            'f': \"594.9999999999999\",\n        },\n{\n            'v': 0.02155327081415459,\n            'f': \"0.02155327081415459\",\n        }],\n [{\n            'v': 12,\n            'f': \"12\",\n        },\n\"AAPL201009C00110000\",\n{\n            'v': 110.0,\n            'f': \"110.0\",\n        },\n{\n            'v': 5.1,\n            'f': \"5.1\",\n        },\n{\n            'v': 5.25,\n            'f': \"5.25\",\n        },\n{\n            'v': 112.27999877929688,\n            'f': \"112.27999877929688\",\n        },\n\"9400\",\n\"5482\",\n\"AAPL\",\n\"October 9, 2020\",\n{\n            'v': 5.175,\n            'f': \"5.175\",\n        },\n{\n            'v': 517.5,\n            'f': \"517.5\",\n        },\n{\n            'v': 0.025783766050743173,\n            'f': \"0.025783766050743173\",\n        }],\n [{\n            'v': 13,\n            'f': \"13\",\n        },\n\"AAPL201009C00111250\",\n{\n            'v': 111.25,\n            'f': \"111.25\",\n        },\n{\n            'v': 4.4,\n            'f': \"4.4\",\n        },\n{\n            'v': 4.5,\n            'f': \"4.5\",\n        },\n{\n            'v': 112.27999877929688,\n            'f': \"112.27999877929688\",\n        },\n\"3478\",\n\"2530\",\n\"AAPL\",\n\"October 9, 2020\",\n{\n            'v': 4.45,\n            'f': \"4.45\",\n        },\n{\n            'v': 445.0,\n            'f': \"445.0\",\n        },\n{\n            'v': 0.030459576575393887,\n            'f': \"0.030459576575393887\",\n        }],\n [{\n            'v': 14,\n            'f': \"14\",\n        },\n\"AAPL201009C00112500\",\n{\n            'v': 112.5,\n            'f': \"112.5\",\n        },\n{\n            'v': 3.75,\n            'f': \"3.75\",\n        },\n{\n            'v': 3.85,\n            'f': \"3.85\",\n        },\n{\n            'v': 112.27999877929688,\n            'f': \"112.27999877929688\",\n        },\n\"3978\",\n\"3171\",\n\"AAPL\",\n\"October 9, 2020\",\n{\n            'v': 3.8,\n            'f': \"3.8\",\n        },\n{\n            'v': 380.0,\n            'f': \"380.0\",\n        },\n{\n            'v': 0.035803360032137466,\n            'f': \"0.035803360032137466\",\n        }],\n [{\n            'v': 15,\n            'f': \"15\",\n        },\n\"AAPL201009C00113750\",\n{\n            'v': 113.75,\n            'f': \"113.75\",\n        },\n{\n            'v': 3.15,\n            'f': \"3.15\",\n        },\n{\n            'v': 3.3,\n            'f': \"3.3\",\n        },\n{\n            'v': 112.27999877929688,\n            'f': \"112.27999877929688\",\n        },\n\"2787\",\n\"3992\",\n\"AAPL\",\n\"October 9, 2020\",\n{\n            'v': 3.2249999999999996,\n            'f': \"3.2249999999999996\",\n        },\n{\n            'v': 322.49999999999994,\n            'f': \"322.49999999999994\",\n        },\n{\n            'v': 0.04181511642097391,\n            'f': \"0.04181511642097391\",\n        }],\n [{\n            'v': 16,\n            'f': \"16\",\n        },\n\"AAPL201009C00115000\",\n{\n            'v': 115.0,\n            'f': \"115.0\",\n        },\n{\n            'v': 2.68,\n            'f': \"2.68\",\n        },\n{\n            'v': 2.74,\n            'f': \"2.74\",\n        },\n{\n            'v': 112.27999877929688,\n            'f': \"112.27999877929688\",\n        },\n\"19410\",\n\"9889\",\n\"AAPL\",\n\"October 9, 2020\",\n{\n            'v': 2.71,\n            'f': \"2.71\",\n        },\n{\n            'v': 271.0,\n            'f': \"271.0\",\n        },\n{\n            'v': 0.04836125115548495,\n            'f': \"0.04836125115548495\",\n        }],\n [{\n            'v': 17,\n            'f': \"17\",\n        },\n\"AAPL201009C00116250\",\n{\n            'v': 116.25,\n            'f': \"116.25\",\n        },\n{\n            'v': 2.22,\n            'f': \"2.22\",\n        },\n{\n            'v': 2.3,\n            'f': \"2.3\",\n        },\n{\n            'v': 112.27999877929688,\n            'f': \"112.27999877929688\",\n        },\n\"2043\",\n\"2145\",\n\"AAPL\",\n\"October 9, 2020\",\n{\n            'v': 2.26,\n            'f': \"2.26\",\n        },\n{\n            'v': 225.99999999999997,\n            'f': \"225.99999999999997\",\n        },\n{\n            'v': 0.05548629576447661,\n            'f': \"0.05548629576447661\",\n        }],\n [{\n            'v': 18,\n            'f': \"18\",\n        },\n\"AAPL201009C00117500\",\n{\n            'v': 117.5,\n            'f': \"117.5\",\n        },\n{\n            'v': 1.8,\n            'f': \"1.8\",\n        },\n{\n            'v': 1.89,\n            'f': \"1.89\",\n        },\n{\n            'v': 112.27999877929688,\n            'f': \"112.27999877929688\",\n        },\n\"1708\",\n\"3549\",\n\"AAPL\",\n\"October 9, 2020\",\n{\n            'v': 1.845,\n            'f': \"1.845\",\n        },\n{\n            'v': 184.5,\n            'f': \"184.5\",\n        },\n{\n            'v': 0.06292306107511125,\n            'f': \"0.06292306107511125\",\n        }],\n [{\n            'v': 19,\n            'f': \"19\",\n        },\n\"AAPL201009C00118750\",\n{\n            'v': 118.75,\n            'f': \"118.75\",\n        },\n{\n            'v': 1.46,\n            'f': \"1.46\",\n        },\n{\n            'v': 1.55,\n            'f': \"1.55\",\n        },\n{\n            'v': 112.27999877929688,\n            'f': \"112.27999877929688\",\n        },\n\"902\",\n\"1707\",\n\"AAPL\",\n\"October 9, 2020\",\n{\n            'v': 1.505,\n            'f': \"1.505\",\n        },\n{\n            'v': 150.5,\n            'f': \"150.5\",\n        },\n{\n            'v': 0.0710277993178392,\n            'f': \"0.0710277993178392\",\n        }],\n [{\n            'v': 20,\n            'f': \"20\",\n        },\n\"AAPL201009C00120000\",\n{\n            'v': 120.0,\n            'f': \"120.0\",\n        },\n{\n            'v': 1.18,\n            'f': \"1.18\",\n        },\n{\n            'v': 1.26,\n            'f': \"1.26\",\n        },\n{\n            'v': 112.27999877929688,\n            'f': \"112.27999877929688\",\n        },\n\"19572\",\n\"8263\",\n\"AAPL\",\n\"October 9, 2020\",\n{\n            'v': 1.22,\n            'f': \"1.22\",\n        },\n{\n            'v': 122.0,\n            'f': \"122.0\",\n        },\n{\n            'v': 0.07962238437743507,\n            'f': \"0.07962238437743507\",\n        }],\n [{\n            'v': 21,\n            'f': \"21\",\n        },\n\"AAPL201009C00121250\",\n{\n            'v': 121.25,\n            'f': \"121.25\",\n        },\n{\n            'v': 0.96,\n            'f': \"0.96\",\n        },\n{\n            'v': 1.02,\n            'f': \"1.02\",\n        },\n{\n            'v': 112.27999877929688,\n            'f': \"112.27999877929688\",\n        },\n\"790\",\n\"1655\",\n\"AAPL\",\n\"October 9, 2020\",\n{\n            'v': 0.99,\n            'f': \"0.99\",\n        },\n{\n            'v': 99.0,\n            'f': \"99.0\",\n        },\n{\n            'v': 0.08870681625389931,\n            'f': \"0.08870681625389931\",\n        }],\n [{\n            'v': 22,\n            'f': \"22\",\n        },\n\"AAPL201009C00122500\",\n{\n            'v': 122.5,\n            'f': \"122.5\",\n        },\n{\n            'v': 0.77,\n            'f': \"0.77\",\n        },\n{\n            'v': 0.82,\n            'f': \"0.82\",\n        },\n{\n            'v': 112.27999877929688,\n            'f': \"112.27999877929688\",\n        },\n\"1221\",\n\"1905\",\n\"AAPL\",\n\"October 9, 2020\",\n{\n            'v': 0.7949999999999999,\n            'f': \"0.7949999999999999\",\n        },\n{\n            'v': 79.5,\n            'f': \"79.5\",\n        },\n{\n            'v': 0.09810296883200675,\n            'f': \"0.09810296883200675\",\n        }],\n [{\n            'v': 23,\n            'f': \"23\",\n        },\n\"AAPL201009C00123750\",\n{\n            'v': 123.75,\n            'f': \"123.75\",\n        },\n{\n            'v': 0.64,\n            'f': \"0.64\",\n        },\n{\n            'v': 0.66,\n            'f': \"0.66\",\n        },\n{\n            'v': 112.27999877929688,\n            'f': \"112.27999877929688\",\n        },\n\"1105\",\n\"1865\",\n\"AAPL\",\n\"October 9, 2020\",\n{\n            'v': 0.65,\n            'f': \"0.65\",\n        },\n{\n            'v': 65.0,\n            'f': \"65.0\",\n        },\n{\n            'v': 0.10794443669817633,\n            'f': \"0.10794443669817633\",\n        }],\n [{\n            'v': 24,\n            'f': \"24\",\n        },\n\"AAPL201009C00126250\",\n{\n            'v': 126.25,\n            'f': \"126.25\",\n        },\n{\n            'v': 0.4,\n            'f': \"0.4\",\n        },\n{\n            'v': 0.42,\n            'f': \"0.42\",\n        },\n{\n            'v': 112.27999877929688,\n            'f': \"112.27999877929688\",\n        },\n\"568\",\n\"1537\",\n\"AAPL\",\n\"October 9, 2020\",\n{\n            'v': 0.41000000000000003,\n            'f': \"0.41000000000000003\",\n        },\n{\n            'v': 41.0,\n            'f': \"41.0\",\n        },\n{\n            'v': 0.12807268771857716,\n            'f': \"0.12807268771857716\",\n        }],\n [{\n            'v': 25,\n            'f': \"25\",\n        },\n\"AAPL201009C00128750\",\n{\n            'v': 128.75,\n            'f': \"128.75\",\n        },\n{\n            'v': 0.26,\n            'f': \"0.26\",\n        },\n{\n            'v': 0.28,\n            'f': \"0.28\",\n        },\n{\n            'v': 112.27999877929688,\n            'f': \"112.27999877929688\",\n        },\n\"240\",\n\"1426\",\n\"AAPL\",\n\"October 9, 2020\",\n{\n            'v': 0.27,\n            'f': \"0.27\",\n        },\n{\n            'v': 27.0,\n            'f': \"27.0\",\n        },\n{\n            'v': 0.14909156931510226,\n            'f': \"0.14909156931510226\",\n        }],\n [{\n            'v': 26,\n            'f': \"26\",\n        },\n\"AAPL201009C00130000\",\n{\n            'v': 130.0,\n            'f': \"130.0\",\n        },\n{\n            'v': 0.21,\n            'f': \"0.21\",\n        },\n{\n            'v': 0.23,\n            'f': \"0.23\",\n        },\n{\n            'v': 112.27999877929688,\n            'f': \"112.27999877929688\",\n        },\n\"880\",\n\"7031\",\n\"AAPL\",\n\"October 9, 2020\",\n{\n            'v': 0.22,\n            'f': \"0.22\",\n        },\n{\n            'v': 22.0,\n            'f': \"22.0\",\n        },\n{\n            'v': 0.1597791362285894,\n            'f': \"0.1597791362285894\",\n        }],\n [{\n            'v': 27,\n            'f': \"27\",\n        },\n\"AAPL201009C00131250\",\n{\n            'v': 131.25,\n            'f': \"131.25\",\n        },\n{\n            'v': 0.18,\n            'f': \"0.18\",\n        },\n{\n            'v': 0.19,\n            'f': \"0.19\",\n        },\n{\n            'v': 112.27999877929688,\n            'f': \"112.27999877929688\",\n        },\n\"270\",\n\"1170\",\n\"AAPL\",\n\"October 9, 2020\",\n{\n            'v': 0.185,\n            'f': \"0.185\",\n        },\n{\n            'v': 18.5,\n            'f': \"18.5\",\n        },\n{\n            'v': 0.17060029772849528,\n            'f': \"0.17060029772849528\",\n        }],\n [{\n            'v': 28,\n            'f': \"28\",\n        },\n\"AAPL201009C00132500\",\n{\n            'v': 132.5,\n            'f': \"132.5\",\n        },\n{\n            'v': 0.15,\n            'f': \"0.15\",\n        },\n{\n            'v': 0.16,\n            'f': \"0.16\",\n        },\n{\n            'v': 112.27999877929688,\n            'f': \"112.27999877929688\",\n        },\n\"237\",\n\"2518\",\n\"AAPL\",\n\"October 9, 2020\",\n{\n            'v': 0.155,\n            'f': \"0.155\",\n        },\n{\n            'v': 15.5,\n            'f': \"15.5\",\n        },\n{\n            'v': 0.18146599075720715,\n            'f': \"0.18146599075720715\",\n        }],\n [{\n            'v': 29,\n            'f': \"29\",\n        },\n\"AAPL201009C00133750\",\n{\n            'v': 133.75,\n            'f': \"133.75\",\n        },\n{\n            'v': 0.12,\n            'f': \"0.12\",\n        },\n{\n            'v': 0.13,\n            'f': \"0.13\",\n        },\n{\n            'v': 112.27999877929688,\n            'f': \"112.27999877929688\",\n        },\n\"231\",\n\"1013\",\n\"AAPL\",\n\"October 9, 2020\",\n{\n            'v': 0.125,\n            'f': \"0.125\",\n        },\n{\n            'v': 12.5,\n            'f': \"12.5\",\n        },\n{\n            'v': 0.19233168378591925,\n            'f': \"0.19233168378591925\",\n        }],\n [{\n            'v': 30,\n            'f': \"30\",\n        },\n\"AAPL201009C00135000\",\n{\n            'v': 135.0,\n            'f': \"135.0\",\n        },\n{\n            'v': 0.1,\n            'f': \"0.1\",\n        },\n{\n            'v': 0.11,\n            'f': \"0.11\",\n        },\n{\n            'v': 112.27999877929688,\n            'f': \"112.27999877929688\",\n        },\n\"314\",\n\"2744\",\n\"AAPL\",\n\"October 9, 2020\",\n{\n            'v': 0.10500000000000001,\n            'f': \"0.10500000000000001\",\n        },\n{\n            'v': 10.500000000000002,\n            'f': \"10.500000000000002\",\n        },\n{\n            'v': 0.2032864398722436,\n            'f': \"0.2032864398722436\",\n        }],\n [{\n            'v': 31,\n            'f': \"31\",\n        },\n\"AAPL201009C00136250\",\n{\n            'v': 136.25,\n            'f': \"136.25\",\n        },\n{\n            'v': 0.08,\n            'f': \"0.08\",\n        },\n{\n            'v': 0.1,\n            'f': \"0.1\",\n        },\n{\n            'v': 112.27999877929688,\n            'f': \"112.27999877929688\",\n        },\n\"104\",\n\"694\",\n\"AAPL\",\n\"October 9, 2020\",\n{\n            'v': 0.09,\n            'f': \"0.09\",\n        },\n{\n            'v': 9.0,\n            'f': \"9.0\",\n        },\n{\n            'v': 0.2142857274873744,\n            'f': \"0.2142857274873744\",\n        }],\n [{\n            'v': 32,\n            'f': \"32\",\n        },\n\"AAPL201009C00137500\",\n{\n            'v': 137.5,\n            'f': \"137.5\",\n        },\n{\n            'v': 0.07,\n            'f': \"0.07\",\n        },\n{\n            'v': 0.09,\n            'f': \"0.09\",\n        },\n{\n            'v': 112.27999877929688,\n            'f': \"112.27999877929688\",\n        },\n\"445\",\n\"1175\",\n\"AAPL\",\n\"October 9, 2020\",\n{\n            'v': 0.08,\n            'f': \"0.08\",\n        },\n{\n            'v': 8.0,\n            'f': \"8.0\",\n        },\n{\n            'v': 0.22532954663131122,\n            'f': \"0.22532954663131122\",\n        }],\n [{\n            'v': 33,\n            'f': \"33\",\n        },\n\"AAPL201009C00141250\",\n{\n            'v': 141.25,\n            'f': \"141.25\",\n        },\n{\n            'v': 0.04,\n            'f': \"0.04\",\n        },\n{\n            'v': 0.06,\n            'f': \"0.06\",\n        },\n{\n            'v': 112.27999877929688,\n            'f': \"112.27999877929688\",\n        },\n\"1138\",\n\"777\",\n\"AAPL\",\n\"October 9, 2020\",\n{\n            'v': 0.05,\n            'f': \"0.05\",\n        },\n{\n            'v': 5.0,\n            'f': \"5.0\",\n        },\n{\n            'v': 0.25846100406312167,\n            'f': \"0.25846100406312167\",\n        }],\n [{\n            'v': 34,\n            'f': \"34\",\n        },\n\"AAPL201009C00142500\",\n{\n            'v': 142.5,\n            'f': \"142.5\",\n        },\n{\n            'v': 0.03,\n            'f': \"0.03\",\n        },\n{\n            'v': 0.06,\n            'f': \"0.06\",\n        },\n{\n            'v': 112.27999877929688,\n            'f': \"112.27999877929688\",\n        },\n\"1109\",\n\"1249\",\n\"AAPL\",\n\"October 9, 2020\",\n{\n            'v': 0.045,\n            'f': \"0.045\",\n        },\n{\n            'v': 4.5,\n            'f': \"4.5\",\n        },\n{\n            'v': 0.2695493547358643,\n            'f': \"0.2695493547358643\",\n        }],\n [{\n            'v': 35,\n            'f': \"35\",\n        },\n\"AAPL201009C00143750\",\n{\n            'v': 143.75,\n            'f': \"143.75\",\n        },\n{\n            'v': 0.03,\n            'f': \"0.03\",\n        },\n{\n            'v': 0.05,\n            'f': \"0.05\",\n        },\n{\n            'v': 112.27999877929688,\n            'f': \"112.27999877929688\",\n        },\n\"899\",\n\"696\",\n\"AAPL\",\n\"October 9, 2020\",\n{\n            'v': 0.04,\n            'f': \"0.04\",\n        },\n{\n            'v': 4.0,\n            'f': \"4.0\",\n        },\n{\n            'v': 0.28063770540860733,\n            'f': \"0.28063770540860733\",\n        }],\n [{\n            'v': 36,\n            'f': \"36\",\n        },\n\"AAPL201009C00147500\",\n{\n            'v': 147.5,\n            'f': \"147.5\",\n        },\n{\n            'v': 0.04,\n            'f': \"0.04\",\n        },\n{\n            'v': 0.05,\n            'f': \"0.05\",\n        },\n{\n            'v': 112.27999877929688,\n            'f': \"112.27999877929688\",\n        },\n\"27\",\n\"845\",\n\"AAPL\",\n\"October 9, 2020\",\n{\n            'v': 0.045,\n            'f': \"0.045\",\n        },\n{\n            'v': 4.5,\n            'f': \"4.5\",\n        },\n{\n            'v': 0.3140808835420612,\n            'f': \"0.3140808835420612\",\n        }],\n [{\n            'v': 37,\n            'f': \"37\",\n        },\n\"AAPL201009C00150000\",\n{\n            'v': 150.0,\n            'f': \"150.0\",\n        },\n{\n            'v': 0.02,\n            'f': \"0.02\",\n        },\n{\n            'v': 0.03,\n            'f': \"0.03\",\n        },\n{\n            'v': 112.27999877929688,\n            'f': \"112.27999877929688\",\n        },\n\"142\",\n\"3511\",\n\"AAPL\",\n\"October 9, 2020\",\n{\n            'v': 0.025,\n            'f': \"0.025\",\n        },\n{\n            'v': 2.5,\n            'f': \"2.5\",\n        },\n{\n            'v': 0.33616852182993484,\n            'f': \"0.33616852182993484\",\n        }],\n [{\n            'v': 38,\n            'f': \"38\",\n        },\n\"AAPL201009C00155000\",\n{\n            'v': 155.0,\n            'f': \"155.0\",\n        },\n{\n            'v': 0.01,\n            'f': \"0.01\",\n        },\n{\n            'v': 0.03,\n            'f': \"0.03\",\n        },\n{\n            'v': 112.27999877929688,\n            'f': \"112.27999877929688\",\n        },\n\"103\",\n\"1513\",\n\"AAPL\",\n\"October 9, 2020\",\n{\n            'v': 0.02,\n            'f': \"0.02\",\n        },\n{\n            'v': 2.0,\n            'f': \"2.0\",\n        },\n{\n            'v': 0.38065551910732554,\n            'f': \"0.38065551910732554\",\n        }],\n [{\n            'v': 39,\n            'f': \"39\",\n        },\n\"AAPL201009C00160000\",\n{\n            'v': 160.0,\n            'f': \"160.0\",\n        },\n{\n            'v': 0.0,\n            'f': \"0.0\",\n        },\n{\n            'v': 0.03,\n            'f': \"0.03\",\n        },\n{\n            'v': 112.27999877929688,\n            'f': \"112.27999877929688\",\n        },\n\"6\",\n\"1155\",\n\"AAPL\",\n\"October 9, 2020\",\n{\n            'v': 0.015,\n            'f': \"0.015\",\n        },\n{\n            'v': 1.5,\n            'f': \"1.5\",\n        },\n{\n            'v': 0.425142516384716,\n            'f': \"0.425142516384716\",\n        }],\n [{\n            'v': 40,\n            'f': \"40\",\n        },\n\"AAPL201009C00165000\",\n{\n            'v': 165.0,\n            'f': \"165.0\",\n        },\n{\n            'v': 0.0,\n            'f': \"0.0\",\n        },\n{\n            'v': 0.03,\n            'f': \"0.03\",\n        },\n{\n            'v': 112.27999877929688,\n            'f': \"112.27999877929688\",\n        },\n\"22\",\n\"942\",\n\"AAPL\",\n\"October 9, 2020\",\n{\n            'v': 0.015,\n            'f': \"0.015\",\n        },\n{\n            'v': 1.5,\n            'f': \"1.5\",\n        },\n{\n            'v': 0.4696740451909127,\n            'f': \"0.4696740451909127\",\n        }],\n [{\n            'v': 41,\n            'f': \"41\",\n        },\n\"AAPL201009C00175000\",\n{\n            'v': 175.0,\n            'f': \"175.0\",\n        },\n{\n            'v': 0.0,\n            'f': \"0.0\",\n        },\n{\n            'v': 0.02,\n            'f': \"0.02\",\n        },\n{\n            'v': 112.27999877929688,\n            'f': \"112.27999877929688\",\n        },\n\"1\",\n\"395\",\n\"AAPL\",\n\"October 9, 2020\",\n{\n            'v': 0.01,\n            'f': \"0.01\",\n        },\n{\n            'v': 1.0,\n            'f': \"1.0\",\n        },\n{\n            'v': 0.5586925712745001,\n            'f': \"0.5586925712745001\",\n        }],\n [{\n            'v': 42,\n            'f': \"42\",\n        },\n\"AAPL201009C00180000\",\n{\n            'v': 180.0,\n            'f': \"180.0\",\n        },\n{\n            'v': 0.01,\n            'f': \"0.01\",\n        },\n{\n            'v': 0.02,\n            'f': \"0.02\",\n        },\n{\n            'v': 112.27999877929688,\n            'f': \"112.27999877929688\",\n        },\n\"36\",\n\"1007\",\n\"AAPL\",\n\"October 9, 2020\",\n{\n            'v': 0.015,\n            'f': \"0.015\",\n        },\n{\n            'v': 1.5,\n            'f': \"1.5\",\n        },\n{\n            'v': 0.6032686316095031,\n            'f': \"0.6032686316095031\",\n        }],\n [{\n            'v': 43,\n            'f': \"43\",\n        },\n\"AAPL201009C00185000\",\n{\n            'v': 185.0,\n            'f': \"185.0\",\n        },\n{\n            'v': 0.01,\n            'f': \"0.01\",\n        },\n{\n            'v': 0.02,\n            'f': \"0.02\",\n        },\n{\n            'v': 112.27999877929688,\n            'f': \"112.27999877929688\",\n        },\n\"76\",\n\"248\",\n\"AAPL\",\n\"October 9, 2020\",\n{\n            'v': 0.015,\n            'f': \"0.015\",\n        },\n{\n            'v': 1.5,\n            'f': \"1.5\",\n        },\n{\n            'v': 0.6478001604157,\n            'f': \"0.6478001604157\",\n        }],\n [{\n            'v': 44,\n            'f': \"44\",\n        },\n\"AAPL201009C00190000\",\n{\n            'v': 190.0,\n            'f': \"190.0\",\n        },\n{\n            'v': 0.0,\n            'f': \"0.0\",\n        },\n{\n            'v': 0.02,\n            'f': \"0.02\",\n        },\n{\n            'v': 112.27999877929688,\n            'f': \"112.27999877929688\",\n        },\n\"516\",\n\"447\",\n\"AAPL\",\n\"October 9, 2020\",\n{\n            'v': 0.01,\n            'f': \"0.01\",\n        },\n{\n            'v': 1.0,\n            'f': \"1.0\",\n        },\n{\n            'v': 0.6922871576930907,\n            'f': \"0.6922871576930907\",\n        }],\n [{\n            'v': 45,\n            'f': \"45\",\n        },\n\"AAPL201009C00420000\",\n{\n            'v': 420.0,\n            'f': \"420.0\",\n        },\n{\n            'v': 84.1,\n            'f': \"84.1\",\n        },\n{\n            'v': 88.2,\n            'f': \"88.2\",\n        },\n{\n            'v': 112.27999877929688,\n            'f': \"112.27999877929688\",\n        },\n\"-\",\n\"12\",\n\"AAPL\",\n\"October 9, 2020\",\n{\n            'v': 86.15,\n            'f': \"86.15\",\n        },\n{\n            'v': 8615.0,\n            'f': \"8615.0\",\n        },\n{\n            'v': 3.507926661051301,\n            'f': \"3.507926661051301\",\n        }],\n [{\n            'v': 46,\n            'f': \"46\",\n        },\n\"AAPL201009C00435000\",\n{\n            'v': 435.0,\n            'f': \"435.0\",\n        },\n{\n            'v': 71.8,\n            'f': \"71.8\",\n        },\n{\n            'v': 75.95,\n            'f': \"75.95\",\n        },\n{\n            'v': 112.27999877929688,\n            'f': \"112.27999877929688\",\n        },\n\"1\",\n\"1\",\n\"AAPL\",\n\"October 9, 2020\",\n{\n            'v': 73.875,\n            'f': \"73.875\",\n        },\n{\n            'v': 7387.5,\n            'f': \"7387.5\",\n        },\n{\n            'v': 3.5321963442506794,\n            'f': \"3.5321963442506794\",\n        }],\n [{\n            'v': 47,\n            'f': \"47\",\n        },\n\"AAPL201009C00445000\",\n{\n            'v': 445.0,\n            'f': \"445.0\",\n        },\n{\n            'v': 64.2,\n            'f': \"64.2\",\n        },\n{\n            'v': 68.2,\n            'f': \"68.2\",\n        },\n{\n            'v': 112.27999877929688,\n            'f': \"112.27999877929688\",\n        },\n\"2\",\n\"1\",\n\"AAPL\",\n\"October 9, 2020\",\n{\n            'v': 66.2,\n            'f': \"66.2\",\n        },\n{\n            'v': 6620.0,\n            'f': \"6620.0\",\n        },\n{\n            'v': 3.5529035051455606,\n            'f': \"3.5529035051455606\",\n        }],\n [{\n            'v': 48,\n            'f': \"48\",\n        },\n\"AAPL201009C00470000\",\n{\n            'v': 470.0,\n            'f': \"470.0\",\n        },\n{\n            'v': 47.55,\n            'f': \"47.55\",\n        },\n{\n            'v': 50.9,\n            'f': \"50.9\",\n        },\n{\n            'v': 112.27999877929688,\n            'f': \"112.27999877929688\",\n        },\n\"7\",\n\"-\",\n\"AAPL\",\n\"October 9, 2020\",\n{\n            'v': 49.224999999999994,\n            'f': \"49.224999999999994\",\n        },\n{\n            'v': 4922.499999999999,\n            'f': \"4922.499999999999\",\n        },\n{\n            'v': 3.6243766088795066,\n            'f': \"3.6243766088795066\",\n        }],\n [{\n            'v': 49,\n            'f': \"49\",\n        },\n\"AAPL201009C00475000\",\n{\n            'v': 475.0,\n            'f': \"475.0\",\n        },\n{\n            'v': 43.75,\n            'f': \"43.75\",\n        },\n{\n            'v': 47.8,\n            'f': \"47.8\",\n        },\n{\n            'v': 112.27999877929688,\n            'f': \"112.27999877929688\",\n        },\n\"1\",\n\"2\",\n\"AAPL\",\n\"October 9, 2020\",\n{\n            'v': 45.775,\n            'f': \"45.775\",\n        },\n{\n            'v': 4577.5,\n            'f': \"4577.5\",\n        },\n{\n            'v': 3.638181382809427,\n            'f': \"3.638181382809427\",\n        }],\n [{\n            'v': 50,\n            'f': \"50\",\n        },\n\"AAPL201009C00480000\",\n{\n            'v': 480.0,\n            'f': \"480.0\",\n        },\n{\n            'v': 41.55,\n            'f': \"41.55\",\n        },\n{\n            'v': 44.85,\n            'f': \"44.85\",\n        },\n{\n            'v': 112.27999877929688,\n            'f': \"112.27999877929688\",\n        },\n\"11\",\n\"3\",\n\"AAPL\",\n\"October 9, 2020\",\n{\n            'v': 43.2,\n            'f': \"43.2\",\n        },\n{\n            'v': 4320.0,\n            'f': \"4320.0\",\n        },\n{\n            'v': 3.659779174280433,\n            'f': \"3.659779174280433\",\n        }],\n [{\n            'v': 51,\n            'f': \"51\",\n        },\n\"AAPL201009C00490000\",\n{\n            'v': 490.0,\n            'f': \"490.0\",\n        },\n{\n            'v': 35.6,\n            'f': \"35.6\",\n        },\n{\n            'v': 39.45,\n            'f': \"39.45\",\n        },\n{\n            'v': 112.27999877929688,\n            'f': \"112.27999877929688\",\n        },\n\"15\",\n\"7\",\n\"AAPL\",\n\"October 9, 2020\",\n{\n            'v': 37.525000000000006,\n            'f': \"37.525000000000006\",\n        },\n{\n            'v': 3752.5000000000005,\n            'f': \"3752.5000000000005\",\n        },\n{\n            'v': 3.6982989466977925,\n            'f': \"3.6982989466977925\",\n        }],\n [{\n            'v': 52,\n            'f': \"52\",\n        },\n\"AAPL201009C00495000\",\n{\n            'v': 495.0,\n            'f': \"495.0\",\n        },\n{\n            'v': 33.85,\n            'f': \"33.85\",\n        },\n{\n            'v': 37.2,\n            'f': \"37.2\",\n        },\n{\n            'v': 112.27999877929688,\n            'f': \"112.27999877929688\",\n        },\n\"22\",\n\"6\",\n\"AAPL\",\n\"October 9, 2020\",\n{\n            'v': 35.525000000000006,\n            'f': \"35.525000000000006\",\n        },\n{\n            'v': 3552.5000000000005,\n            'f': \"3552.5000000000005\",\n        },\n{\n            'v': 3.7250178639815106,\n            'f': \"3.7250178639815106\",\n        }],\n [{\n            'v': 53,\n            'f': \"53\",\n        },\n\"AAPL201009C00500000\",\n{\n            'v': 500.0,\n            'f': \"500.0\",\n        },\n{\n            'v': 31.45,\n            'f': \"31.45\",\n        },\n{\n            'v': 34.8,\n            'f': \"34.8\",\n        },\n{\n            'v': 112.27999877929688,\n            'f': \"112.27999877929688\",\n        },\n\"116\",\n\"44\",\n\"AAPL\",\n\"October 9, 2020\",\n{\n            'v': 33.125,\n            'f': \"33.125\",\n        },\n{\n            'v': 3312.5,\n            'f': \"3312.5\",\n        },\n{\n            'v': 3.7481742589607334,\n            'f': \"3.7481742589607334\",\n        }],\n [{\n            'v': 54,\n            'f': \"54\",\n        },\n\"AAPL201009C00505000\",\n{\n            'v': 505.0,\n            'f': \"505.0\",\n        },\n{\n            'v': 30.05,\n            'f': \"30.05\",\n        },\n{\n            'v': 32.6,\n            'f': \"32.6\",\n        },\n{\n            'v': 112.27999877929688,\n            'f': \"112.27999877929688\",\n        },\n\"248\",\n\"171\",\n\"AAPL\",\n\"October 9, 2020\",\n{\n            'v': 31.325000000000003,\n            'f': \"31.325000000000003\",\n        },\n{\n            'v': 3132.5000000000005,\n            'f': \"3132.5000000000005\",\n        },\n{\n            'v': 3.7766744373967,\n            'f': \"3.7766744373967\",\n        }],\n [{\n            'v': 55,\n            'f': \"55\",\n        },\n\"AAPL201009C00510000\",\n{\n            'v': 510.0,\n            'f': \"510.0\",\n        },\n{\n            'v': 27.1,\n            'f': \"27.1\",\n        },\n{\n            'v': 30.4,\n            'f': \"30.4\",\n        },\n{\n            'v': 112.27999877929688,\n            'f': \"112.27999877929688\",\n        },\n\"235\",\n\"161\",\n\"AAPL\",\n\"October 9, 2020\",\n{\n            'v': 28.75,\n            'f': \"28.75\",\n        },\n{\n            'v': 2875.0,\n            'f': \"2875.0\",\n        },\n{\n            'v': 3.798272228867705,\n            'f': \"3.798272228867705\",\n        }],\n [{\n            'v': 56,\n            'f': \"56\",\n        },\n\"AAPL201009C00515000\",\n{\n            'v': 515.0,\n            'f': \"515.0\",\n        },\n{\n            'v': 25.35,\n            'f': \"25.35\",\n        },\n{\n            'v': 28.4,\n            'f': \"28.4\",\n        },\n{\n            'v': 112.27999877929688,\n            'f': \"112.27999877929688\",\n        },\n\"64\",\n\"12\",\n\"AAPL\",\n\"October 9, 2020\",\n{\n            'v': 26.875,\n            'f': \"26.875\",\n        },\n{\n            'v': 2687.5,\n            'f': \"2687.5\",\n        },\n{\n            'v': 3.8261044343715778,\n            'f': \"3.8261044343715778\",\n        }],\n [{\n            'v': 57,\n            'f': \"57\",\n        },\n\"AAPL201009C00520000\",\n{\n            'v': 520.0,\n            'f': \"520.0\",\n        },\n{\n            'v': 23.05,\n            'f': \"23.05\",\n        },\n{\n            'v': 26.5,\n            'f': \"26.5\",\n        },\n{\n            'v': 112.27999877929688,\n            'f': \"112.27999877929688\",\n        },\n\"61\",\n\"10\",\n\"AAPL\",\n\"October 9, 2020\",\n{\n            'v': 24.775,\n            'f': \"24.775\",\n        },\n{\n            'v': 2477.5,\n            'f': \"2477.5\",\n        },\n{\n            'v': 3.851932721079172,\n            'f': \"3.851932721079172\",\n        }],\n [{\n            'v': 58,\n            'f': \"58\",\n        },\n\"AAPL201009C00530000\",\n{\n            'v': 530.0,\n            'f': \"530.0\",\n        },\n{\n            'v': 20.05,\n            'f': \"20.05\",\n        },\n{\n            'v': 23.2,\n            'f': \"23.2\",\n        },\n{\n            'v': 112.27999877929688,\n            'f': \"112.27999877929688\",\n        },\n\"16\",\n\"13\",\n\"AAPL\",\n\"October 9, 2020\",\n{\n            'v': 21.625,\n            'f': \"21.625\",\n        },\n{\n            'v': 2162.5,\n            'f': \"2162.5\",\n        },\n{\n            'v': 3.912940915543662,\n            'f': \"3.912940915543662\",\n        }],\n [{\n            'v': 59,\n            'f': \"59\",\n        },\n\"AAPL201009C00535000\",\n{\n            'v': 535.0,\n            'f': \"535.0\",\n        },\n{\n            'v': 18.65,\n            'f': \"18.65\",\n        },\n{\n            'v': 21.65,\n            'f': \"21.65\",\n        },\n{\n            'v': 112.27999877929688,\n            'f': \"112.27999877929688\",\n        },\n\"2\",\n\"1\",\n\"AAPL\",\n\"October 9, 2020\",\n{\n            'v': 20.15,\n            'f': \"20.15\",\n        },\n{\n            'v': 2014.9999999999998,\n            'f': \"2014.9999999999998\",\n        },\n{\n            'v': 3.94433564335203,\n            'f': \"3.94433564335203\",\n        }],\n [{\n            'v': 60,\n            'f': \"60\",\n        },\n\"AAPL201009C00540000\",\n{\n            'v': 540.0,\n            'f': \"540.0\",\n        },\n{\n            'v': 17.2,\n            'f': \"17.2\",\n        },\n{\n            'v': 20.4,\n            'f': \"20.4\",\n        },\n{\n            'v': 112.27999877929688,\n            'f': \"112.27999877929688\",\n        },\n\"31\",\n\"9\",\n\"AAPL\",\n\"October 9, 2020\",\n{\n            'v': 18.799999999999997,\n            'f': \"18.799999999999997\",\n        },\n{\n            'v': 1879.9999999999998,\n            'f': \"1879.9999999999998\",\n        },\n{\n            'v': 3.9768436593805534,\n            'f': \"3.9768436593805534\",\n        }],\n [{\n            'v': 61,\n            'f': \"61\",\n        },\n\"AAPL201009C00545000\",\n{\n            'v': 545.0,\n            'f': \"545.0\",\n        },\n{\n            'v': 15.95,\n            'f': \"15.95\",\n        },\n{\n            'v': 18.95,\n            'f': \"18.95\",\n        },\n{\n            'v': 112.27999877929688,\n            'f': \"112.27999877929688\",\n        },\n\"6\",\n\"2\",\n\"AAPL\",\n\"October 9, 2020\",\n{\n            'v': 17.45,\n            'f': \"17.45\",\n        },\n{\n            'v': 1745.0,\n            'f': \"1745.0\",\n        },\n{\n            'v': 4.009351675409078,\n            'f': \"4.009351675409078\",\n        }],\n [{\n            'v': 62,\n            'f': \"62\",\n        },\n\"AAPL201009C00550000\",\n{\n            'v': 550.0,\n            'f': \"550.0\",\n        },\n{\n            'v': 14.75,\n            'f': \"14.75\",\n        },\n{\n            'v': 17.7,\n            'f': \"17.7\",\n        },\n{\n            'v': 112.27999877929688,\n            'f': \"112.27999877929688\",\n        },\n\"21\",\n\"22\",\n\"AAPL\",\n\"October 9, 2020\",\n{\n            'v': 16.225,\n            'f': \"16.225\",\n        },\n{\n            'v': 1622.5000000000002,\n            'f': \"1622.5000000000002\",\n        },\n{\n            'v': 4.0429729796577565,\n            'f': \"4.0429729796577565\",\n        }],\n [{\n            'v': 63,\n            'f': \"63\",\n        },\n\"AAPL201009C00555000\",\n{\n            'v': 555.0,\n            'f': \"555.0\",\n        },\n{\n            'v': 13.75,\n            'f': \"13.75\",\n        },\n{\n            'v': 16.75,\n            'f': \"16.75\",\n        },\n{\n            'v': 112.27999877929688,\n            'f': \"112.27999877929688\",\n        },\n\"2\",\n\"4\",\n\"AAPL\",\n\"October 9, 2020\",\n{\n            'v': 15.25,\n            'f': \"15.25\",\n        },\n{\n            'v': 1525.0,\n            'f': \"1525.0\",\n        },\n{\n            'v': 4.078820860346744,\n            'f': \"4.078820860346744\",\n        }],\n [{\n            'v': 64,\n            'f': \"64\",\n        },\n\"AAPL201009C00560000\",\n{\n            'v': 560.0,\n            'f': \"560.0\",\n        },\n{\n            'v': 12.75,\n            'f': \"12.75\",\n        },\n{\n            'v': 15.65,\n            'f': \"15.65\",\n        },\n{\n            'v': 112.27999877929688,\n            'f': \"112.27999877929688\",\n        },\n\"1\",\n\"1\",\n\"AAPL\",\n\"October 9, 2020\",\n{\n            'v': 14.2,\n            'f': \"14.2\",\n        },\n{\n            'v': 1420.0,\n            'f': \"1420.0\",\n        },\n{\n            'v': 4.114000768103641,\n            'f': \"4.114000768103641\",\n        }],\n [{\n            'v': 65,\n            'f': \"65\",\n        },\n\"AAPL201009C00565000\",\n{\n            'v': 565.0,\n            'f': \"565.0\",\n        },\n{\n            'v': 11.8,\n            'f': \"11.8\",\n        },\n{\n            'v': 14.55,\n            'f': \"14.55\",\n        },\n{\n            'v': 112.27999877929688,\n            'f': \"112.27999877929688\",\n        },\n\"6\",\n\"1\",\n\"AAPL\",\n\"October 9, 2020\",\n{\n            'v': 13.175,\n            'f': \"13.175\",\n        },\n{\n            'v': 1317.5,\n            'f': \"1317.5\",\n        },\n{\n            'v': 4.149403333504567,\n            'f': \"4.149403333504567\",\n        }],\n [{\n            'v': 66,\n            'f': \"66\",\n        },\n\"AAPL201009C00570000\",\n{\n            'v': 570.0,\n            'f': \"570.0\",\n        },\n{\n            'v': 10.65,\n            'f': \"10.65\",\n        },\n{\n            'v': 13.85,\n            'f': \"13.85\",\n        },\n{\n            'v': 112.27999877929688,\n            'f': \"112.27999877929688\",\n        },\n\"2\",\n\"6\",\n\"AAPL\",\n\"October 9, 2020\",\n{\n            'v': 12.25,\n            'f': \"12.25\",\n        },\n{\n            'v': 1225.0,\n            'f': \"1225.0\",\n        },\n{\n            'v': 4.185696529481617,\n            'f': \"4.185696529481617\",\n        }],\n [{\n            'v': 67,\n            'f': \"67\",\n        },\n\"AAPL201009C00575000\",\n{\n            'v': 575.0,\n            'f': \"575.0\",\n        },\n{\n            'v': 9.35,\n            'f': \"9.35\",\n        },\n{\n            'v': 13.05,\n            'f': \"13.05\",\n        },\n{\n            'v': 112.27999877929688,\n            'f': \"112.27999877929688\",\n        },\n\"3\",\n\"-\",\n\"AAPL\",\n\"October 9, 2020\",\n{\n            'v': 11.2,\n            'f': \"11.2\",\n        },\n{\n            'v': 1120.0,\n            'f': \"1120.0\",\n        },\n{\n            'v': 4.220876437238513,\n            'f': \"4.220876437238513\",\n        }],\n [{\n            'v': 68,\n            'f': \"68\",\n        },\n\"AAPL201009C00580000\",\n{\n            'v': 580.0,\n            'f': \"580.0\",\n        },\n{\n            'v': 8.5,\n            'f': \"8.5\",\n        },\n{\n            'v': 12.3,\n            'f': \"12.3\",\n        },\n{\n            'v': 112.27999877929688,\n            'f': \"112.27999877929688\",\n        },\n\"69\",\n\"8\",\n\"AAPL\",\n\"October 9, 2020\",\n{\n            'v': 10.4,\n            'f': \"10.4\",\n        },\n{\n            'v': 1040.0,\n            'f': \"1040.0\",\n        },\n{\n            'v': 4.258282921435717,\n            'f': \"4.258282921435717\",\n        }],\n [{\n            'v': 69,\n            'f': \"69\",\n        },\n\"AAPL201009C00590000\",\n{\n            'v': 590.0,\n            'f': \"590.0\",\n        },\n{\n            'v': 7.7,\n            'f': \"7.7\",\n        },\n{\n            'v': 11.1,\n            'f': \"11.1\",\n        },\n{\n            'v': 112.27999877929688,\n            'f': \"112.27999877929688\",\n        },\n\"10\",\n\"107\",\n\"AAPL\",\n\"October 9, 2020\",\n{\n            'v': 9.4,\n            'f': \"9.4\",\n        },\n{\n            'v': 940.0,\n            'f': \"940.0\",\n        },\n{\n            'v': 4.338439673286872,\n            'f': \"4.338439673286872\",\n        }]],\n        columns: [[\"number\", \"index\"], [\"string\", \"Contract Name\"], [\"number\", \"Strike\"], [\"number\", \"Bid\"], [\"number\", \"Ask\"], [\"number\", \"CurrentPrice\"], [\"string\", \"Volume\"], [\"string\", \"Open Interest\"], [\"string\", \"Ticker\"], [\"string\", \"DateExp\"], [\"number\", \"AvgPrice\"], [\"number\", \"OptionCost\"], [\"number\", \"BE_percent\"]],\n        columnOptions: [{\"width\": \"1px\", \"className\": \"index_column\"}],\n        rowsPerPage: 25,\n        helpUrl: \"https://colab.research.google.com/notebooks/data_table.ipynb\",\n        suppressOutputScrolling: true,\n        minimumWidth: undefined,\n      });\n    ",
            "text/html": [
              "<div>\n",
              "<style scoped>\n",
              "    .dataframe tbody tr th:only-of-type {\n",
              "        vertical-align: middle;\n",
              "    }\n",
              "\n",
              "    .dataframe tbody tr th {\n",
              "        vertical-align: top;\n",
              "    }\n",
              "\n",
              "    .dataframe thead th {\n",
              "        text-align: right;\n",
              "    }\n",
              "</style>\n",
              "<table border=\"1\" class=\"dataframe\">\n",
              "  <thead>\n",
              "    <tr style=\"text-align: right;\">\n",
              "      <th></th>\n",
              "      <th>Contract Name</th>\n",
              "      <th>Strike</th>\n",
              "      <th>Bid</th>\n",
              "      <th>Ask</th>\n",
              "      <th>CurrentPrice</th>\n",
              "      <th>Volume</th>\n",
              "      <th>Open Interest</th>\n",
              "      <th>Ticker</th>\n",
              "      <th>DateExp</th>\n",
              "      <th>AvgPrice</th>\n",
              "      <th>OptionCost</th>\n",
              "      <th>BE_percent</th>\n",
              "    </tr>\n",
              "  </thead>\n",
              "  <tbody>\n",
              "    <tr>\n",
              "      <th>0</th>\n",
              "      <td>AAPL201009C00070000</td>\n",
              "      <td>70.0</td>\n",
              "      <td>42.00</td>\n",
              "      <td>42.75</td>\n",
              "      <td>112.279999</td>\n",
              "      <td>8</td>\n",
              "      <td>38</td>\n",
              "      <td>AAPL</td>\n",
              "      <td>October 9, 2020</td>\n",
              "      <td>42.375</td>\n",
              "      <td>4237.5</td>\n",
              "      <td>0.000846</td>\n",
              "    </tr>\n",
              "    <tr>\n",
              "      <th>1</th>\n",
              "      <td>AAPL201009C00075000</td>\n",
              "      <td>75.0</td>\n",
              "      <td>36.95</td>\n",
              "      <td>37.75</td>\n",
              "      <td>112.279999</td>\n",
              "      <td>56</td>\n",
              "      <td>62</td>\n",
              "      <td>AAPL</td>\n",
              "      <td>October 9, 2020</td>\n",
              "      <td>37.350</td>\n",
              "      <td>3735.0</td>\n",
              "      <td>0.000623</td>\n",
              "    </tr>\n",
              "    <tr>\n",
              "      <th>2</th>\n",
              "      <td>AAPL201009C00080000</td>\n",
              "      <td>80.0</td>\n",
              "      <td>31.95</td>\n",
              "      <td>32.80</td>\n",
              "      <td>112.279999</td>\n",
              "      <td>61</td>\n",
              "      <td>61</td>\n",
              "      <td>AAPL</td>\n",
              "      <td>October 9, 2020</td>\n",
              "      <td>32.375</td>\n",
              "      <td>3237.5</td>\n",
              "      <td>0.000846</td>\n",
              "    </tr>\n",
              "    <tr>\n",
              "      <th>3</th>\n",
              "      <td>AAPL201009C00085000</td>\n",
              "      <td>85.0</td>\n",
              "      <td>27.05</td>\n",
              "      <td>27.80</td>\n",
              "      <td>112.279999</td>\n",
              "      <td>5</td>\n",
              "      <td>242</td>\n",
              "      <td>AAPL</td>\n",
              "      <td>October 9, 2020</td>\n",
              "      <td>27.425</td>\n",
              "      <td>2742.5</td>\n",
              "      <td>0.001291</td>\n",
              "    </tr>\n",
              "    <tr>\n",
              "      <th>4</th>\n",
              "      <td>AAPL201009C00090000</td>\n",
              "      <td>90.0</td>\n",
              "      <td>22.25</td>\n",
              "      <td>22.65</td>\n",
              "      <td>112.279999</td>\n",
              "      <td>856</td>\n",
              "      <td>138</td>\n",
              "      <td>AAPL</td>\n",
              "      <td>October 9, 2020</td>\n",
              "      <td>22.450</td>\n",
              "      <td>2245.0</td>\n",
              "      <td>0.001514</td>\n",
              "    </tr>\n",
              "    <tr>\n",
              "      <th>...</th>\n",
              "      <td>...</td>\n",
              "      <td>...</td>\n",
              "      <td>...</td>\n",
              "      <td>...</td>\n",
              "      <td>...</td>\n",
              "      <td>...</td>\n",
              "      <td>...</td>\n",
              "      <td>...</td>\n",
              "      <td>...</td>\n",
              "      <td>...</td>\n",
              "      <td>...</td>\n",
              "      <td>...</td>\n",
              "    </tr>\n",
              "    <tr>\n",
              "      <th>65</th>\n",
              "      <td>AAPL201009C00565000</td>\n",
              "      <td>565.0</td>\n",
              "      <td>11.80</td>\n",
              "      <td>14.55</td>\n",
              "      <td>112.279999</td>\n",
              "      <td>6</td>\n",
              "      <td>1</td>\n",
              "      <td>AAPL</td>\n",
              "      <td>October 9, 2020</td>\n",
              "      <td>13.175</td>\n",
              "      <td>1317.5</td>\n",
              "      <td>4.149403</td>\n",
              "    </tr>\n",
              "    <tr>\n",
              "      <th>66</th>\n",
              "      <td>AAPL201009C00570000</td>\n",
              "      <td>570.0</td>\n",
              "      <td>10.65</td>\n",
              "      <td>13.85</td>\n",
              "      <td>112.279999</td>\n",
              "      <td>2</td>\n",
              "      <td>6</td>\n",
              "      <td>AAPL</td>\n",
              "      <td>October 9, 2020</td>\n",
              "      <td>12.250</td>\n",
              "      <td>1225.0</td>\n",
              "      <td>4.185697</td>\n",
              "    </tr>\n",
              "    <tr>\n",
              "      <th>67</th>\n",
              "      <td>AAPL201009C00575000</td>\n",
              "      <td>575.0</td>\n",
              "      <td>9.35</td>\n",
              "      <td>13.05</td>\n",
              "      <td>112.279999</td>\n",
              "      <td>3</td>\n",
              "      <td>-</td>\n",
              "      <td>AAPL</td>\n",
              "      <td>October 9, 2020</td>\n",
              "      <td>11.200</td>\n",
              "      <td>1120.0</td>\n",
              "      <td>4.220876</td>\n",
              "    </tr>\n",
              "    <tr>\n",
              "      <th>68</th>\n",
              "      <td>AAPL201009C00580000</td>\n",
              "      <td>580.0</td>\n",
              "      <td>8.50</td>\n",
              "      <td>12.30</td>\n",
              "      <td>112.279999</td>\n",
              "      <td>69</td>\n",
              "      <td>8</td>\n",
              "      <td>AAPL</td>\n",
              "      <td>October 9, 2020</td>\n",
              "      <td>10.400</td>\n",
              "      <td>1040.0</td>\n",
              "      <td>4.258283</td>\n",
              "    </tr>\n",
              "    <tr>\n",
              "      <th>69</th>\n",
              "      <td>AAPL201009C00590000</td>\n",
              "      <td>590.0</td>\n",
              "      <td>7.70</td>\n",
              "      <td>11.10</td>\n",
              "      <td>112.279999</td>\n",
              "      <td>10</td>\n",
              "      <td>107</td>\n",
              "      <td>AAPL</td>\n",
              "      <td>October 9, 2020</td>\n",
              "      <td>9.400</td>\n",
              "      <td>940.0</td>\n",
              "      <td>4.338440</td>\n",
              "    </tr>\n",
              "  </tbody>\n",
              "</table>\n",
              "<p>70 rows × 12 columns</p>\n",
              "</div>"
            ],
            "text/plain": [
              "          Contract Name  Strike    Bid  ...  AvgPrice  OptionCost BE_percent\n",
              "0   AAPL201009C00070000    70.0  42.00  ...    42.375      4237.5   0.000846\n",
              "1   AAPL201009C00075000    75.0  36.95  ...    37.350      3735.0   0.000623\n",
              "2   AAPL201009C00080000    80.0  31.95  ...    32.375      3237.5   0.000846\n",
              "3   AAPL201009C00085000    85.0  27.05  ...    27.425      2742.5   0.001291\n",
              "4   AAPL201009C00090000    90.0  22.25  ...    22.450      2245.0   0.001514\n",
              "..                  ...     ...    ...  ...       ...         ...        ...\n",
              "65  AAPL201009C00565000   565.0  11.80  ...    13.175      1317.5   4.149403\n",
              "66  AAPL201009C00570000   570.0  10.65  ...    12.250      1225.0   4.185697\n",
              "67  AAPL201009C00575000   575.0   9.35  ...    11.200      1120.0   4.220876\n",
              "68  AAPL201009C00580000   580.0   8.50  ...    10.400      1040.0   4.258283\n",
              "69  AAPL201009C00590000   590.0   7.70  ...     9.400       940.0   4.338440\n",
              "\n",
              "[70 rows x 12 columns]"
            ]
          },
          "metadata": {
            "tags": []
          },
          "execution_count": 12
        }
      ]
    },
    {
      "cell_type": "code",
      "metadata": {
        "id": "cDMy52q73Wyp"
      },
      "source": [
        "def price_percent_payoff(x, row):  #x is in decimal format\n",
        "    new_price = row.CurrentPrice * (1 + x)\n",
        "    if (100*new_price - 100*row.Strike - row.OptionCost) >= 0:\n",
        "        payoff = 100*new_price - 100*row.Strike - row.OptionCost\n",
        "    else:\n",
        "        payoff = -(row.OptionCost)\n",
        "    return(payoff)"
      ],
      "execution_count": 9,
      "outputs": []
    },
    {
      "cell_type": "code",
      "metadata": {
        "id": "ihKSF02u4mXL",
        "outputId": "7933164d-b984-486e-eb70-64c9199ccc3c",
        "colab": {
          "base_uri": "https://localhost:8080/",
          "height": 295
        }
      },
      "source": [
        "x_axis = np.arange(-50, 51, 1)\n",
        "payoffs = []\n",
        "for p in range(len(x_axis)):\n",
        "    percent = (p - 50)*0.01\n",
        "    payoff = price_percent_payoff(percent,options_df[options_df.Ticker == 'AAPL'].iloc[5])\n",
        "    payoffs.append(payoff)\n",
        "\n",
        "contract = options_df[options_df.Ticker == 'AAPL'].iloc[5]['Contract Name']\n",
        "plt.bar(x_axis, payoffs)\n",
        "plt.xlabel('Price % Change from start date to expiration')\n",
        "plt.ylabel('Payoff ($)')\n",
        "plt.title('Payoff Possibilities for ' + str(contract));\n",
        "plt.savefig('T_prices.png', dpi = 800)\n"
      ],
      "execution_count": 14,
      "outputs": [
        {
          "output_type": "display_data",
          "data": {
            "image/png": "[encoded data removed]",
            "text/plain": [
              "<Figure size 432x288 with 1 Axes>"
            ]
          },
          "metadata": {
            "tags": [],
            "needs_background": "light"
          }
        }
      ]
    },
    {
      "cell_type": "code",
      "metadata": {
        "id": "jVimz1C78HDq",
        "outputId": "a32af635-a1fd-44ae-9045-24846b3b454a",
        "colab": {
          "base_uri": "https://localhost:8080/",
          "height": 221
        }
      },
      "source": [
        "options_df[options_df.Ticker == 'AAPL']['BE_percent']"
      ],
      "execution_count": 16,
      "outputs": [
        {
          "output_type": "execute_result",
          "data": {
            "text/plain": [
              "0     0.000846\n",
              "1     0.000623\n",
              "2     0.000846\n",
              "3     0.001291\n",
              "4     0.001514\n",
              "        ...   \n",
              "65    4.149403\n",
              "66    4.185697\n",
              "67    4.220876\n",
              "68    4.258283\n",
              "69    4.338440\n",
              "Name: BE_percent, Length: 70, dtype: float64"
            ]
          },
          "metadata": {
            "tags": []
          },
          "execution_count": 16
        }
      ]
    },
    {
      "cell_type": "markdown",
      "metadata": {
        "id": "DJMzZ2ItJEIl"
      },
      "source": [
        ""
      ]
    },
    {
      "cell_type": "markdown",
      "metadata": {
        "id": "BTkGwc_TjAPp"
      },
      "source": [
        "### Stock Options Evaluation Model: PART II\n"
      ]
    },
    {
      "cell_type": "code",
      "metadata": {
        "id": "iE7GNV68jBBY"
      },
      "source": [
        "def delta_dist(ticker, duration, sample_size):\n",
        "    stock = get_data(ticker).close\n",
        "    dates = list(stock.index)\n",
        "    duration = int(duration)\n",
        "    sample_size = int(sample_size)\n",
        "    deltas = []\n",
        "\n",
        "    for s in range(sample_size):\n",
        "        try:\n",
        "            x = random.randint(0, (sample_size - 1))\n",
        "            start = stock[x]\n",
        "            stop = stock[x + duration]\n",
        "            difference_percent = (stop - start)/start\n",
        "            deltas.append(difference_percent)\n",
        "        except:\n",
        "            pass\n",
        "\n",
        "    return deltas\n"
      ],
      "execution_count": 17,
      "outputs": []
    },
    {
      "cell_type": "code",
      "metadata": {
        "id": "YDt3jTdbpQdt"
      },
      "source": [
        "def binned(diffs):\n",
        "    bins = []\n",
        "    for bin in range(101):    #needs to be 101 to count -50% and +50%\n",
        "        begin = (bin - 50)*0.01\n",
        "        def between_bins(k):\n",
        "            return (k <= begin + .01) and (k > begin)\n",
        "        count = list(filter(between_bins, diffs))\n",
        "        amount = len(count)/len(diffs)  #amount is percent of total\n",
        "        bins.append(amount)\n",
        "    return(bins)"
      ],
      "execution_count": 18,
      "outputs": []
    },
    {
      "cell_type": "code",
      "metadata": {
        "id": "txp3T7Gkq06O",
        "outputId": "aadbe23b-7679-41fb-a7b3-a5703237381d",
        "colab": {
          "base_uri": "https://localhost:8080/",
          "height": 295
        }
      },
      "source": [
        "#SAMPLE SIZE 200\n",
        "changes = delta_dist('AAPL', 14, 200)\n",
        "binned_changes = binned(changes)\n",
        "x_axis = np.arange(-50, 51, 1)\n",
        "\n",
        "plt.bar(x_axis, binned_changes)\n",
        "plt.xlabel('Stock Price % Change')\n",
        "plt.ylabel('Probability')\n",
        "plt.title('AAPL: Probability Distribution- 14 day price change(Sample Size=200)');\n",
        "plt.savefig('AAPL_prices.png', dpi = 800)\n"
      ],
      "execution_count": 19,
      "outputs": [
        {
          "output_type": "display_data",
          "data": {
            "image/png": "[encoded data removed]",
            "text/plain": [
              "<Figure size 432x288 with 1 Axes>"
            ]
          },
          "metadata": {
            "tags": [],
            "needs_background": "light"
          }
        }
      ]
    },
    {
      "cell_type": "code",
      "metadata": {
        "id": "glmPp39ash1k",
        "outputId": "ffcef23e-f891-4bbe-80d7-bcc68068f21c",
        "colab": {
          "base_uri": "https://localhost:8080/",
          "height": 295
        }
      },
      "source": [
        "#SAMPLE SIZE 9000\n",
        "changes = delta_dist('AAPL', 14, 9000)\n",
        "binned_changes = binned(changes)\n",
        "x_axis = np.arange(-50, 51, 1)\n",
        "\n",
        "plt.bar(x_axis, binned_changes)\n",
        "plt.xlabel('Stock Price % Change')\n",
        "plt.ylabel('Probability')\n",
        "plt.title('AAPL: Probability Distribution- 14 day price change(Sample Size=9000)');\n",
        "plt.savefig('AAPL_prices.png', dpi = 800)\n"
      ],
      "execution_count": 20,
      "outputs": [
        {
          "output_type": "display_data",
          "data": {
            "image/png": "[encoded data removed]",
            "text/plain": [
              "<Figure size 432x288 with 1 Axes>"
            ]
          },
          "metadata": {
            "tags": [],
            "needs_background": "light"
          }
        }
      ]
    },
    {
      "cell_type": "code",
      "metadata": {
        "id": "LGis96wCsw3U",
        "outputId": "b1ee4022-640f-42b7-ff56-25dc26ed59c1",
        "colab": {
          "base_uri": "https://localhost:8080/",
          "height": 295
        }
      },
      "source": [
        "#SAMPLE SIZE 3000, DURATION = 5 years\n",
        "changes = delta_dist('AAPL', 365*3, 3000)\n",
        "binned_changes = binned(changes)\n",
        "x_axis = np.arange(-50, 51, 1)\n",
        "\n",
        "plt.bar(x_axis, binned_changes)\n",
        "plt.xlabel('Stock Price % Change')\n",
        "plt.ylabel('Probability')\n",
        "plt.title('AAPL: Probability Distribution- 3 Year Price Change');\n",
        "plt.savefig('AAPL_prices.png', dpi = 800)\n"
      ],
      "execution_count": 21,
      "outputs": [
        {
          "output_type": "display_data",
          "data": {
            "image/png": "[encoded data removed]",
            "text/plain": [
              "<Figure size 432x288 with 1 Axes>"
            ]
          },
          "metadata": {
            "tags": [],
            "needs_background": "light"
          }
        }
      ]
    },
    {
      "cell_type": "code",
      "metadata": {
        "id": "0PdRJnh7vPzi"
      },
      "source": [
        "#Generate time lapse between today and expiration of options contract:\n",
        "timedate_until_exp = datetime.strptime(expiration, '%B %d, %Y') - datetime.today()\n",
        "time_until_exp = int(timedate_until_exp.days)  #gives integer value of distance from today until expiration"
      ],
      "execution_count": 22,
      "outputs": []
    },
    {
      "cell_type": "code",
      "metadata": {
        "id": "Ys9BmITOw-7m"
      },
      "source": [
        "#Creating dictionary containing each ticker and prob distribution \n",
        "scenario_tickers = list(set(options_df.Ticker))\n",
        "number_of_tickers = len(scenario_tickers)\n",
        "simulations = 2000\n",
        "\n",
        "#dict_of_stuff will contain each ticker key corresponding to the 101 values of its distribution of price changes [-50%, 50%]\n",
        "dict_of_probs = dict()\n",
        "for stock in scenario_tickers:      #N is the sample size\n",
        "    changes = delta_dist(stock, time_until_exp, simulations) \n",
        "    distribution_list = binned(changes)   #then, bin these changes so that they fit into the -50% to +50% integer counts\n",
        "    dict_of_probs.update({stock : distribution_list})  #matches each ticker in dictionary with 101 counts "
      ],
      "execution_count": 23,
      "outputs": []
    },
    {
      "cell_type": "code",
      "metadata": {
        "id": "imk5Dx55xptu",
        "outputId": "9570ec33-5899-42a0-bc93-d488a5d01e8d",
        "colab": {
          "base_uri": "https://localhost:8080/",
          "height": 295
        }
      },
      "source": [
        "#Verify it works with example\n",
        "x_axis = np.arange(-50, 51, 1)\n",
        "example = random.randint(0, number_of_tickers - 1)\n",
        "\n",
        "plt.bar(x_axis, dict_of_probs[scenario_tickers[example]])\n",
        "plt.xlabel('Stock Price % Change')\n",
        "plt.ylabel('Probability')\n",
        "plt.title(str(time_until_exp) + \" day average % price change for \" + str(scenario_tickers[example]))\n",
        "plt.savefig('price_example.png', dpi = 800)"
      ],
      "execution_count": 24,
      "outputs": [
        {
          "output_type": "display_data",
          "data": {
            "image/png": "[encoded data removed]",
            "text/plain": [
              "<Figure size 432x288 with 1 Axes>"
            ]
          },
          "metadata": {
            "tags": [],
            "needs_background": "light"
          }
        }
      ]
    },
    {
      "cell_type": "code",
      "metadata": {
        "id": "SZ998uXr1oSd"
      },
      "source": [
        "#Generating expected payoffs\n",
        "x_axis = np.arange(-50, 51, 1)\n",
        "ExpectedPay = []\n",
        "\n",
        "for i in range(len(options_df)):\n",
        "    payoffs = []\n",
        "    ticker = options_df.iloc[i].Ticker\n",
        "    for p in range(len(x_axis)):\n",
        "        percent = (p - 50)*0.01\n",
        "        payoff = price_percent_payoff(percent, options_df.iloc[i])\n",
        "        payoffs.append(payoff)\n",
        "    #payoffs list contains the 101 values to be multiplied by the probabilities \n",
        "    probs = dict_of_probs[ticker]\n",
        "    expected_value = sum( np.array(probs) * np.array(payoffs) )\n",
        "    ExpectedPay.append(expected_value)\n",
        "\n",
        "options_df['ExpectedPay'] = ExpectedPay"
      ],
      "execution_count": 25,
      "outputs": []
    },
    {
      "cell_type": "code",
      "metadata": {
        "id": "1mOj7SDj5n4Q",
        "outputId": "9710980f-abae-41e3-b75a-7c8f7875fbf5",
        "colab": {
          "base_uri": "https://localhost:8080/",
          "height": 295
        }
      },
      "source": [
        "plt.hist(ExpectedPay, bins = 40, range=[-2000, 2000])\n",
        "plt.xlabel('Total Expected Gain/Loss of Contract in $')\n",
        "plt.ylabel('Frequency')\n",
        "plt.title(\"Frequency of Expected Gains and Losses\");\n",
        "plt.savefig('payoffs.png', dpi = 800)"
      ],
      "execution_count": 26,
      "outputs": [
        {
          "output_type": "display_data",
          "data": {
            "image/png": "[encoded data removed]",
            "text/plain": [
              "<Figure size 432x288 with 1 Axes>"
            ]
          },
          "metadata": {
            "tags": [],
            "needs_background": "light"
          }
        }
      ]
    }
  ]
}